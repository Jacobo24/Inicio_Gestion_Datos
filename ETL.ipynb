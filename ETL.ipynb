{
 "cells": [
  {
   "cell_type": "markdown",
   "metadata": {},
   "source": [
    "# Proceso ETL: Extracción desde Azure SQL y Carga en SQL Server Local\n",
    "\n",
    "Este Notebook realiza un proceso ETL automático que extrae datos desde Azure SQL Database, los transforma con Pandas y los carga en SQL Server Local. Se trabajan las siguientes tablas: **Hechos**, **clientes**, **zona**, **tiempo** y **productos**.\n",
    "\n",
    "El proceso incluye:\n",
    "- Configuración de conexiones.\n",
    "- Definición de consultas (almacenadas en archivos SQL).\n",
    "- Especificación de claves primarias y foráneas.\n",
    "- Creación dinámica de las tablas en SQL Server Local.\n",
    "- Carga de datos.\n"
   ]
  },
  {
   "cell_type": "code",
   "execution_count": 8,
   "metadata": {},
   "outputs": [],
   "source": [
    "import pyodbc         # Conexión con bases de datos SQL Server\n",
    "import pandas as pd   # Manipulación y transformación de datos\n",
    "import numpy as np    # Gestión de datos numéricos\n",
    "import os             # Operaciones con archivos y rutas\n",
    "import warnings       # Control de advertencias\n",
    "\n",
    "# Suprimir avisos innecesarios\n",
    "warnings.filterwarnings(\"ignore\", category=UserWarning)"
   ]
  },
  {
   "cell_type": "markdown",
   "metadata": {},
   "source": [
    "## CONFIGURACIÓN DE CONEXIONES"
   ]
  },
  {
   "cell_type": "code",
   "execution_count": 9,
   "metadata": {},
   "outputs": [],
   "source": [
    "# Conexión a Azure SQL Database\n",
    "AZURE_SERVER = 'uaxmathfis.database.windows.net'\n",
    "AZURE_DATABASE = 'usecases'\n",
    "AZURE_DRIVER = '{ODBC Driver 17 for SQL Server}'\n",
    "azure_conn_str = f\"DRIVER={AZURE_DRIVER};SERVER={AZURE_SERVER};DATABASE={AZURE_DATABASE};Authentication=ActiveDirectoryInteractive\"\n",
    "\n",
    "# Conexión a SQL Server Local\n",
    "LOCAL_SERVER = 'localhost'\n",
    "LOCAL_DATABASE = 'dwh_case1'\n",
    "LOCAL_DRIVER = '{ODBC Driver 17 for SQL Server}'\n",
    "local_conn_str = f\"DRIVER={LOCAL_DRIVER};SERVER={LOCAL_SERVER};DATABASE={LOCAL_DATABASE};Trusted_Connection=yes;TrustServerCertificate=yes\""
   ]
  },
  {
   "cell_type": "markdown",
   "metadata": {},
   "source": [
    "## DEFINICIÓN DE CONSULTAS Y METADATOS"
   ]
  },
  {
   "cell_type": "code",
   "execution_count": 10,
   "metadata": {},
   "outputs": [],
   "source": [
    "# Ubicación de los archivos SQL que contienen las consultas de extracción\n",
    "query_folder = \"Modelo_dimensional\"\n",
    "queries = {\n",
    "    \"hechos\": \"hechos.sql\",\n",
    "    \"clientes\": \"clientes.sql\",\n",
    "    \"zona\": \"zona.sql\",\n",
    "    \"tiempo\": \"tiempo.sql\",\n",
    "    \"productos\": \"productos.sql\"\n",
    "}\n",
    "\n",
    "# Claves primarias para cada tabla\n",
    "primary_keys = {\n",
    "    \"hechos\": [\"CODE\"],\n",
    "    \"clientes\": [\"Customer_ID\"],\n",
    "    \"zona\": [\"TIENDA_ID\"],\n",
    "    \"tiempo\": [\"Fecha\"],\n",
    "    \"productos\": [\"Id_Producto\"]\n",
    "}\n",
    "\n",
    "# Relaciones (claves foráneas) definidas para la tabla de hechos\n",
    "foreign_keys = {\n",
    "    \"hechos\": {\n",
    "        \"Customer_ID\": \"clientes(Customer_ID)\",\n",
    "        \"TIENDA_ID\": \"zona(TIENDA_ID)\",\n",
    "        \"Id_Producto\": \"productos(Id_Producto)\",\n",
    "        \"Sales_Date\": \"tiempo(Fecha)\"\n",
    "    }\n",
    "}"
   ]
  },
  {
   "cell_type": "markdown",
   "metadata": {},
   "source": [
    "## FUNCIÓN PARA CREAR TABLAS EN SQL SERVER LOCAL"
   ]
  },
  {
   "cell_type": "code",
   "execution_count": 11,
   "metadata": {},
   "outputs": [],
   "source": [
    "def create_table_sql(table_name, df):\n",
    "    # Especificación manual para columnas de fecha según cada tabla\n",
    "    date_columns = {\n",
    "        \"clientes\": [\"Fecha_nacimiento\"],\n",
    "        \"tiempo\": [\"InicioMes\", \"FinMes\", \"Fecha\"],\n",
    "        \"hechos\": [\"DATE_ULTIMA_REVISION\", \"Logistic_date\", \"Prod_date\", \"Sales_Date\"]\n",
    "    }\n",
    "    \n",
    "    col_defs = []\n",
    "    for col in df.columns:\n",
    "        # Si la columna figura en el mapeo manual de fechas\n",
    "        if table_name in date_columns and col in date_columns[table_name]:\n",
    "            col_defs.append(f'[{col}] DATE')\n",
    "        elif np.issubdtype(df[col].dtype, np.datetime64):\n",
    "            col_defs.append(f'[{col}] DATE')\n",
    "        elif df[col].dtype == np.float32:\n",
    "            col_defs.append(f'[{col}] FLOAT')\n",
    "        elif df[col].dtype == np.int32:\n",
    "            col_defs.append(f'[{col}] INT')\n",
    "        else:\n",
    "            # Para textos, calcular el tamaño óptimo con un margen (máximo 2000)\n",
    "            max_len = df[col].astype(str).str.len().max()\n",
    "            varchar_size = min(2000, max(1, int(max_len * 1.3)))\n",
    "            col_defs.append(f'[{col}] NVARCHAR({varchar_size})')\n",
    "    \n",
    "    # Incorporar clave primaria si se ha definido\n",
    "    pk = \", PRIMARY KEY (\" + \", \".join(primary_keys[table_name]) + \")\" if table_name in primary_keys else \"\"\n",
    "    \n",
    "    # Agregar las relaciones de claves foráneas, si existen\n",
    "    fk = \"\"\n",
    "    if table_name in foreign_keys:\n",
    "        for col, ref in foreign_keys[table_name].items():\n",
    "            fk += f\", FOREIGN KEY ({col}) REFERENCES {ref}\"\n",
    "    \n",
    "    return f\"CREATE TABLE {table_name} ({', '.join(col_defs)}{pk}{fk});\"\n",
    "\n",
    "\n",
    "# -------------------------\n",
    "# FUNCIÓN PARA ELIMINAR TABLAS EN ORDEN (para respetar dependencias)\n",
    "# -------------------------\n",
    "def drop_tables_in_order(cursor, conn):\n",
    "    # Orden inverso para eliminar primero las tablas dependientes\n",
    "    drop_order = [\"hechos\", \"tiempo\", \"productos\", \"zona\", \"clientes\"]\n",
    "    for table in drop_order:\n",
    "        query = f\"IF OBJECT_ID('{table}', 'U') IS NOT NULL DROP TABLE {table};\"\n",
    "        try:\n",
    "            cursor.execute(query)\n",
    "            conn.commit()\n",
    "        except Exception as e:\n",
    "            print(f\"Error al borrar la tabla {table}: {e}\")"
   ]
  },
  {
   "cell_type": "markdown",
   "metadata": {},
   "source": [
    "## EJECUCIÓN DEL PROCESO ETL"
   ]
  },
  {
   "cell_type": "code",
   "execution_count": 12,
   "metadata": {},
   "outputs": [
    {
     "name": "stdout",
     "output_type": "stream",
     "text": [
      "Conexiones establecidas exitosamente.\n",
      "Tablas existentes eliminadas correctamente.\n",
      "\n",
      "Extrayendo datos para la tabla 'hechos'...\n",
      "Error durante el proceso ETL: ('42S22', \"[42S22] [Microsoft][ODBC Driver 17 for SQL Server][SQL Server]El nombre de columna 'CODE' no existe en la vista o tabla de destino. (1911) (SQLExecDirectW); [42S22] [Microsoft][ODBC Driver 17 for SQL Server][SQL Server]No se pudo crear la restricción o el índice. Vea los errores anteriores. (1750)\")\n",
      "\n",
      "Proceso ETL completado exitosamente.\n"
     ]
    }
   ],
   "source": [
    "try:\n",
    "    # Conexión a Azure SQL y a SQL Server Local\n",
    "    conn_azure = pyodbc.connect(azure_conn_str)\n",
    "    conn_local = pyodbc.connect(local_conn_str)\n",
    "    print(\"Conexiones establecidas exitosamente.\")\n",
    "    \n",
    "    # Eliminar tablas existentes en el orden adecuado\n",
    "    with conn_local.cursor() as cursor:\n",
    "        drop_tables_in_order(cursor, conn_local)\n",
    "        print(\"Tablas existentes eliminadas correctamente.\")\n",
    "    \n",
    "    # Procesar cada tabla definida en el diccionario de consultas\n",
    "    for table_name, file_name in queries.items():\n",
    "        print(f\"\\nExtrayendo datos para la tabla '{table_name}'...\")\n",
    "        query_path = os.path.join(query_folder, file_name)\n",
    "        \n",
    "        with open(query_path, \"r\", encoding=\"utf-8\") as file:\n",
    "            sql_query = file.read()\n",
    "        \n",
    "        # Extraer datos desde Azure SQL\n",
    "        df = pd.read_sql(sql_query, conn_azure)\n",
    "        if df.empty:\n",
    "            print(f\"La consulta para '{table_name}' no devolvió resultados. Se omite.\")\n",
    "            continue\n",
    "        \n",
    "        # Reemplazar valores nulos en columnas numéricas y ajustar tipos\n",
    "        df = df.fillna(0)\n",
    "        for col in df.select_dtypes(include=['float64']).columns:\n",
    "            df[col] = df[col].astype(np.float32)\n",
    "        for col in df.select_dtypes(include=['int64']).columns:\n",
    "            df[col] = df[col].astype(np.int32)\n",
    "        \n",
    "        # Crear la tabla en SQL Server Local con la estructura detectada\n",
    "        with conn_local.cursor() as cursor:\n",
    "            create_sql = create_table_sql(table_name, df)\n",
    "            cursor.execute(create_sql)\n",
    "            conn_local.commit()\n",
    "            print(f\"Tabla '{table_name}' creada en SQL Server Local.\")\n",
    "            \n",
    "            # Insertar los datos extraídos\n",
    "            placeholders = ', '.join(['?' for _ in df.columns])\n",
    "            insert_sql = f\"INSERT INTO {table_name} VALUES ({placeholders})\"\n",
    "            cursor.fast_executemany = True\n",
    "            cursor.executemany(insert_sql, df.values.tolist())\n",
    "            conn_local.commit()\n",
    "            print(f\"{df.shape[0]} registros insertados en '{table_name}'.\")\n",
    "    \n",
    "except Exception as e:\n",
    "    print(f\"Error durante el proceso ETL: {e}\")\n",
    "    \n",
    "finally:\n",
    "    conn_azure.close()\n",
    "    conn_local.close()\n",
    "\n",
    "print(\"\\nProceso ETL completado exitosamente.\")"
   ]
  },
  {
   "cell_type": "markdown",
   "metadata": {},
   "source": [
    "### Resumen del Proceso ETL\n",
    "\n",
    "- **Extracción:** Se obtienen datos de Azure SQL Database mediante consultas definidas en archivos SQL (para las tablas: hechos, clientes, zona, tiempo y productos).\n",
    "- **Transformación:** Los datos se manipulan en Pandas, se convierten tipos de datos, se gestionan valores nulos y se prepara la estructura de las tablas.\n",
    "- **Carga:** Se crean las tablas en SQL Server Local respetando claves primarias y foráneas y se insertan los registros.\n",
    "\n",
    "Este Notebook automatiza el proceso ETL y permite monitorizar cada paso a través de los mensajes en consola."
   ]
  }
 ],
 "metadata": {
  "kernelspec": {
   "display_name": "env-django",
   "language": "python",
   "name": "python3"
  },
  "language_info": {
   "codemirror_mode": {
    "name": "ipython",
    "version": 3
   },
   "file_extension": ".py",
   "mimetype": "text/x-python",
   "name": "python",
   "nbconvert_exporter": "python",
   "pygments_lexer": "ipython3",
   "version": "3.10.11"
  }
 },
 "nbformat": 4,
 "nbformat_minor": 2
}
